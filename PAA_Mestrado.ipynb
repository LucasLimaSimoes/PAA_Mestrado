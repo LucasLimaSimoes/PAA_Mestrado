{
  "nbformat": 4,
  "nbformat_minor": 0,
  "metadata": {
    "colab": {
      "provenance": [],
      "authorship_tag": "ABX9TyNcLYn51+p33MFJPmQ+mHyS",
      "include_colab_link": true
    },
    "kernelspec": {
      "name": "python3",
      "display_name": "Python 3"
    },
    "language_info": {
      "name": "python"
    }
  },
  "cells": [
    {
      "cell_type": "markdown",
      "metadata": {
        "id": "view-in-github",
        "colab_type": "text"
      },
      "source": [
        "<a href=\"https://colab.research.google.com/github/LucasLimaSimoes/PAA_Mestrado/blob/main/PAA_Mestrado.ipynb\" target=\"_parent\"><img src=\"https://colab.research.google.com/assets/colab-badge.svg\" alt=\"Open In Colab\"/></a>"
      ]
    },
    {
      "cell_type": "code",
      "source": [
        "import numpy as np\n",
        "import time\n",
        "import matplotlib.pyplot as plt\n",
        "import networkx as nx"
      ],
      "metadata": {
        "id": "EKbpJGZazUgR"
      },
      "execution_count": null,
      "outputs": []
    },
    {
      "cell_type": "markdown",
      "source": [
        "Ordena por inserção (ordena os novos itens com base no novo item inserido)"
      ],
      "metadata": {
        "id": "6hhfMkGesMPA"
      }
    },
    {
      "cell_type": "code",
      "execution_count": null,
      "metadata": {
        "colab": {
          "base_uri": "https://localhost:8080/"
        },
        "id": "0BwCCm5IsIba",
        "outputId": "787c5d1f-d80a-4503-99f8-8a07c3ec5eea"
      },
      "outputs": [
        {
          "output_type": "stream",
          "name": "stdout",
          "text": [
            "[0, 1, 2, 3, 5]\n"
          ]
        }
      ],
      "source": [
        "A = [0, 2, 5, 3, 1]\n",
        "for j in range(len(A)):\n",
        "  temp = A[j]\n",
        "  i = j-1\n",
        "  while i >= 0 and A[i] > temp:\n",
        "    A[i+1] = A[i]\n",
        "    i = i - 1\n",
        "  A[i+1] = temp\n",
        "\n",
        "print(A)"
      ]
    },
    {
      "cell_type": "markdown",
      "source": [
        "Encontrar o maior valor"
      ],
      "metadata": {
        "id": "pTPhkA3_2hg5"
      }
    },
    {
      "cell_type": "code",
      "source": [
        "A = [2, 5, 1, 3, 4, 0, 2, 6, 5, 10]\n",
        "max = A[0]\n",
        "for i in range(1,len(A)):\n",
        "  if max < A[i]:\n",
        "    max = A[i]\n",
        "print(max)"
      ],
      "metadata": {
        "colab": {
          "base_uri": "https://localhost:8080/"
        },
        "id": "ebkUPJWb2pIB",
        "outputId": "3b6bca11-8506-4b10-fcad-d72362d2026a"
      },
      "execution_count": null,
      "outputs": [
        {
          "output_type": "stream",
          "name": "stdout",
          "text": [
            "10\n"
          ]
        }
      ]
    },
    {
      "cell_type": "markdown",
      "source": [
        "Buscar elemento"
      ],
      "metadata": {
        "id": "yxYd8ODL3mO0"
      }
    },
    {
      "cell_type": "code",
      "source": [
        "A = np.array(np.random.randint(100, size=50))\n",
        "print(A)\n",
        "x = 10 #elemento a ser buscado\n",
        "i=0\n",
        "while i < len(A):\n",
        "  i = i + 1\n",
        "  if x == A[i-1]:\n",
        "    print(\"Encontrado no indice\",i)\n",
        "  elif i == len(A):\n",
        "    print(\"Não encontrado\")"
      ],
      "metadata": {
        "colab": {
          "base_uri": "https://localhost:8080/"
        },
        "id": "Je7Uq0jt3nx7",
        "outputId": "9677c6d5-885a-46df-ac45-6e7dfdd3bacb"
      },
      "execution_count": null,
      "outputs": [
        {
          "output_type": "stream",
          "name": "stdout",
          "text": [
            "[62 36 28 26  4 14 44 38 70 76 12 37 46 18 66  3 69 60 97 40 64 68  5 43\n",
            " 41 74 28 76 35 76 41 66 77 70 72 98 66 98 80 85 67 56 59  6  1  6 46 29\n",
            " 32 36]\n",
            "Não encontrado\n"
          ]
        }
      ]
    },
    {
      "cell_type": "markdown",
      "source": [
        "Bubblesort"
      ],
      "metadata": {
        "id": "vA833vC99KIs"
      }
    },
    {
      "cell_type": "code",
      "source": [
        "A = np.array(np.random.randint(100, size=50))\n",
        "print(A)\n",
        "for i in range(len(A)):\n",
        "  for j in range(len(A) - i - 1):\n",
        "    if A[j] > A[j+1]:\n",
        "      temp = A[j]\n",
        "      A[j] = A[j+1]\n",
        "      A[j+1] = temp\n",
        "print(A)"
      ],
      "metadata": {
        "colab": {
          "base_uri": "https://localhost:8080/"
        },
        "id": "DhUZy0bU9MQj",
        "outputId": "099ff038-be89-4e67-e98f-8be01c76333a"
      },
      "execution_count": null,
      "outputs": [
        {
          "output_type": "stream",
          "name": "stdout",
          "text": [
            "[67 22 92 86 54 11 70 93 18 11 63 20 88 82 11  0 33 63 14 78 54 24 48 20\n",
            " 89 32 70 75 99 31 11 26 79 99 23 91 43 10 64 51 40 65 47 61 27 32 50 47\n",
            " 18 57]\n",
            "[ 0 10 11 11 11 11 14 18 18 20 20 22 23 24 26 27 31 32 32 33 40 43 47 47\n",
            " 48 50 51 54 54 57 61 63 63 64 65 67 70 70 75 78 79 82 86 88 89 91 92 93\n",
            " 99 99]\n"
          ]
        }
      ]
    },
    {
      "cell_type": "markdown",
      "source": [
        "É primo?"
      ],
      "metadata": {
        "id": "K_8ZrltW-9y8"
      }
    },
    {
      "cell_type": "code",
      "source": [
        "n = 6 #número a verificar\n",
        "j = 2\n",
        "while j < n and n%j != 0:\n",
        "  j = j + 1\n",
        "if j == n:\n",
        "  print(\"É primo\")\n",
        "else:\n",
        "  print(\"Não é primo\")"
      ],
      "metadata": {
        "colab": {
          "base_uri": "https://localhost:8080/"
        },
        "id": "EKpV75fs-_y3",
        "outputId": "6ae6bd97-603d-4733-adc6-a9cd2ceb48da"
      },
      "execution_count": null,
      "outputs": [
        {
          "output_type": "stream",
          "name": "stdout",
          "text": [
            "Não é primo\n"
          ]
        }
      ]
    },
    {
      "cell_type": "markdown",
      "source": [
        "Listar primos"
      ],
      "metadata": {
        "id": "N-ZRI-eS_u8L"
      }
    },
    {
      "cell_type": "code",
      "source": [
        "n = 6 #tamanho da lista\n",
        "A = [0]*n #lista vazia\n",
        "x = 0\n",
        "for i in range(2,n+1):\n",
        "  j = 2\n",
        "  while j < i and i%j != 0:\n",
        "    j = j + 1\n",
        "  if j == i:\n",
        "    A[x] = i\n",
        "    x = x + 1\n",
        "print(A)"
      ],
      "metadata": {
        "colab": {
          "base_uri": "https://localhost:8080/"
        },
        "id": "6U355gRl_wHn",
        "outputId": "70bd049d-c4e8-4e29-b90b-11e2d57ac65d"
      },
      "execution_count": null,
      "outputs": [
        {
          "output_type": "stream",
          "name": "stdout",
          "text": [
            "[2, 3, 5, 0, 0, 0]\n"
          ]
        }
      ]
    },
    {
      "cell_type": "markdown",
      "source": [
        "Tentativa de gráfico"
      ],
      "metadata": {
        "id": "FQBNsM6DGsJD"
      }
    },
    {
      "cell_type": "code",
      "source": [
        "def bubble(A):\n",
        "  t0 = time.perf_counter()\n",
        "  for i in range(len(A)):\n",
        "    for j in range(len(A) - i - 1):\n",
        "      if A[j] > A[j+1]:\n",
        "        temp = A[j]\n",
        "        A[j] = A[j+1]\n",
        "        A[j+1] = temp\n",
        "  t1 = time.perf_counter()\n",
        "  tempo = t1-t0\n",
        "  return tempo\n",
        "\n",
        "n_elementos = np.arange(100, 1001, 100)\n",
        "n = len(n_elementos)\n",
        "tempo = [0]*3\n",
        "tempo_media = [0]*n\n",
        "for i in range(0,n):\n",
        "  j = 0\n",
        "  while j < 3:\n",
        "    A = np.array(np.random.randint(100, size=n_elementos[i]))\n",
        "    tempo[j] = bubble(A)\n",
        "    j = j + 1\n",
        "  tempo_media[i] = (tempo[0]+tempo[1]+tempo[2])/3\n",
        "\n",
        "plt.plot(n_elementos, tempo_media)\n",
        "plt.show()"
      ],
      "metadata": {
        "colab": {
          "base_uri": "https://localhost:8080/",
          "height": 430
        },
        "id": "Mp3DzE3gGu5q",
        "outputId": "20ea98cd-f3e4-4424-fc89-79c66c302056"
      },
      "execution_count": null,
      "outputs": [
        {
          "output_type": "display_data",
          "data": {
            "text/plain": [
              "<Figure size 640x480 with 1 Axes>"
            ],
            "image/png": "[encoded data removed]"
          },
          "metadata": {}
        }
      ]
    },
    {
      "cell_type": "markdown",
      "source": [
        "Tarefa 1 Q 12 Busca Binária"
      ],
      "metadata": {
        "id": "43U3nNHcvt-u"
      }
    },
    {
      "cell_type": "code",
      "source": [
        "import numpy as np #biblioteca para criar os arrays\n",
        "import time #biblioteca pra calcular o tempo\n",
        "import matplotlib.pyplot as plt # biblioteca pra plotar o grafico"
      ],
      "metadata": {
        "id": "A3anfz8Sv0v8"
      },
      "execution_count": null,
      "outputs": []
    },
    {
      "cell_type": "code",
      "source": [
        "def busca_bin_ite(vetor, item): #buca binária iterativa\n",
        "  t0 = time.perf_counter() #tempo inicial\n",
        "  esq = 0 #indice do primeiro elemento\n",
        "  dir = len(vetor)-1 #indice do último elemento\n",
        "  while esq <= dir: #laço de repetição enquanto puder ser buscado no vetor\n",
        "    meio = (esq + dir)//2 #encontra a posição do meio\n",
        "    if vetor[meio] == item: #caso encontre o elemento\n",
        "      t1 = time.perf_counter() #tempo final (caso ache)\n",
        "      tempo = t1 - t0 #calcula tempo\n",
        "      return tempo #meio #devolve onde o elemento foi encontrado\n",
        "    elif vetor[meio] > item: #elemento só pode estar a esquerda\n",
        "      dir = meio - 1\n",
        "    elif vetor[meio] < item: #elemento só pode estar a direita\n",
        "      esq = meio + 1\n",
        "  t1 = time.perf_counter() #tempo final (caso não ache)\n",
        "  tempo = t1 - t0 #calcula tempo\n",
        "  return tempo #-1 #só chega aqui se o elemento não existe"
      ],
      "metadata": {
        "id": "eLNQWNeG1xdb"
      },
      "execution_count": null,
      "outputs": []
    },
    {
      "cell_type": "code",
      "source": [
        "def busca_bin_rec(vetor, esq, dir, item):\n",
        "  if dir < esq: #se o elemento não existir\n",
        "    tempo = time.perf_counter() #tempo final\n",
        "    return tempo #-1\n",
        "  meio = (esq + dir)//2 #encontra o meio do vetor\n",
        "  if vetor[meio] == item: #encontrou o elemento\n",
        "    tempo = time.perf_counter() #tempo final\n",
        "    return tempo #meio\n",
        "  elif vetor[meio] > item: #elemento só pode estar a esquerda\n",
        "    return busca_bin_rec(vetor, esq, meio - 1, item)\n",
        "  else: #elemento só pode estar a direita\n",
        "    return busca_bin_rec(vetor, meio + 1, dir, item)"
      ],
      "metadata": {
        "id": "ZZr-qDjZwFJE"
      },
      "execution_count": null,
      "outputs": []
    },
    {
      "cell_type": "code",
      "source": [
        "#n_elementos = [10, 50, 100, 150, 200, 250, 300, 350, 400, 450, 500, 550, 600, 650, 700, 750, 800, 850, 900, 950, 1000] #número de elementos\n",
        "n_elementos = np.arange(100, 10001, 50)\n",
        "n = len(n_elementos)\n",
        "\n",
        "tempo = [0]*5 #para fazer a média dos tempos\n",
        "tempo_media = [0]*n #para receber o resultado das médias\n",
        "\n",
        "tempo_ele_igu = [0]*5 #para fazer a média dos tempos (caso de todos os elementos iguais)\n",
        "tempo_media_ele_igu = [0]*n #para receber o resultado das médias (caso de todos os elementos iguais)\n",
        "\n",
        "for i in range (0, n): #laço para percorrer várias quantidades de elementos\n",
        "  j = 0\n",
        "  while j < 5: #loop pra fazer uma média\n",
        "    A = np.arange(0, 2*n_elementos[i], n_elementos[i]) #cria um array ordenado de 0 a 2n com n posições\n",
        "    B = [1]*(n_elementos[i]) #array de elementos iguais\n",
        "    item = 10#np.random.randint(n_elementos[i]) #inteiro aleatório a ser procurado\n",
        "\n",
        "    tempo[j] = busca_bin_ite(A,item) #tempo de uma busca binária\n",
        "    tempo_ele_igu[j] = busca_bin_ite(B,item) #tempo de uma busca binária (caso de todos os elementos iguais)\n",
        "\n",
        "    j = j + 1\n",
        "\n",
        "  tempo_media[i] = (tempo[0] + tempo[1] + tempo[2])/3 #média de tempo\n",
        "  tempo_media_ele_igu[i] = (tempo_ele_igu[0] + tempo_ele_igu[1] + tempo_ele_igu[2])/3 #média de tempo (caso de todos os elementos iguais)\n",
        "\n",
        "#para plotagem do gráfico\n",
        "plt.plot(n_elementos, tempo_media, color=\"blue\")\n",
        "plt.plot(n_elementos, tempo_media_ele_igu, color=\"red\")\n",
        "plt.xlabel(\"Entrada n\")\n",
        "plt.ylabel(\"Tempo de execução\")\n",
        "plt.title(\"Busca Binária Iterativa\")\n",
        "plt.legend([\"Array ordenado\",\"Array de elementos iguais\"])\n",
        "plt.ylim([0,0.00001])\n",
        "#plt.ylim([0,0.00001])\n",
        "plt.show()"
      ],
      "metadata": {
        "colab": {
          "base_uri": "https://localhost:8080/",
          "height": 472
        },
        "id": "CiN7mUwLy_6I",
        "outputId": "f57aba30-79ad-475d-8498-4888257f8c6c"
      },
      "execution_count": null,
      "outputs": [
        {
          "output_type": "display_data",
          "data": {
            "text/plain": [
              "<Figure size 640x480 with 1 Axes>"
            ],
            "image/png": "[encoded data removed]"
          },
          "metadata": {}
        }
      ]
    },
    {
      "cell_type": "code",
      "source": [
        "n_elementos = [10, 50, 100, 150, 200, 250, 300, 350, 400, 450, 500, 550, 600, 650, 700, 750, 800, 850, 900, 950, 1000] #número de elementos\n",
        "n = len(n_elementos)\n",
        "\n",
        "tempo = [0]*3 #para fazer a média dos tempos\n",
        "tempo_media = [0]*n #para receber o resultado das médias\n",
        "\n",
        "tempo_ele_igu = [0]*3 #para fazer a média dos tempos (caso de todos os elementos iguais)\n",
        "tempo_media_ele_igu = [0]*n #para receber o resultado das médias (caso de todos os elementos iguais)\n",
        "\n",
        "for i in range (0, n): #laço para percorrer várias quantidades de elementos\n",
        "  j = 0\n",
        "  while j < 3: #loop pra fazer uma média\n",
        "    A = np.arange(0, 2*n_elementos[i], n_elementos[i]) #cria um array ordenado de 0 a 2n com n posições\n",
        "    B = [1]*(n_elementos[i]) #array de elementos iguais\n",
        "    item = np.random.randint(n_elementos[i]) #inteiro aleatório a ser procurado\n",
        "\n",
        "    tempo_inicial = time.perf_counter() #tempo inicial\n",
        "    tempo_final = busca_bin_rec(A, 0, len(A)-1, item) #tempo final de uma busca binária\n",
        "    tempo[j] = tempo_final - tempo_inicial\n",
        "\n",
        "    tempo_inicial_igu = time.perf_counter() #tempo inicial (caso igual)\n",
        "    tempo_final_igu = busca_bin_rec(B, 0, len(B)-1, item) #tempo final de uma busca binária (caso de todos os elementos iguais)\n",
        "    tempo_ele_igu[j] = tempo_final_igu - tempo_inicial_igu\n",
        "\n",
        "    j = j + 1\n",
        "\n",
        "  tempo_media[i] = (tempo[0] + tempo[1] + tempo[2])/3 #média de tempo\n",
        "  tempo_media_ele_igu[i] = (tempo_ele_igu[0] + tempo_ele_igu[1] + tempo_ele_igu[2])/3 #média de tempo (caso de todos os elementos iguais)\n",
        "\n",
        "#para plotagem do gráfico\n",
        "plt.plot(n_elementos, tempo_media, color=\"blue\")\n",
        "plt.plot(n_elementos, tempo_media_ele_igu, color=\"red\")\n",
        "plt.xlabel(\"Entrada n\")\n",
        "plt.ylabel(\"Tempo de execução\")\n",
        "plt.title(\"Busca Binária Recursiva\")\n",
        "plt.legend([\"Array ordenado\",\"Array de elementos iguais\"])\n",
        "plt.ylim([0,0.00001])\n",
        "plt.show()"
      ],
      "metadata": {
        "colab": {
          "base_uri": "https://localhost:8080/",
          "height": 472
        },
        "id": "YbpYnm2nAbOg",
        "outputId": "a87dae23-ac3e-46c1-d0c1-775aa7a77bc0"
      },
      "execution_count": null,
      "outputs": [
        {
          "output_type": "display_data",
          "data": {
            "text/plain": [
              "<Figure size 640x480 with 1 Axes>"
            ],
            "image/png": "[encoded data removed]"
          },
          "metadata": {}
        }
      ]
    },
    {
      "cell_type": "markdown",
      "source": [
        "Tarefa 1 Q 13 Flavious Josephus"
      ],
      "metadata": {
        "id": "CS5baj-v4u2_"
      }
    },
    {
      "cell_type": "code",
      "source": [
        "import numpy as np #biblioteca para criar os arrays\n",
        "import time #biblioteca pra calcular o tempo\n",
        "import matplotlib.pyplot as plt # biblioteca pra plotar o grafico"
      ],
      "metadata": {
        "id": "ZJRfJ2aj41L1"
      },
      "execution_count": null,
      "outputs": []
    },
    {
      "cell_type": "code",
      "source": [
        "def flavious(pessoas, i, k): #função recursiva\n",
        "  if len(pessoas) == 1: #chegou no último sobrevivente\n",
        "    return pessoas\n",
        "  else: #caso haja mais de 1 pessoa\n",
        "    i = (i+k-1)%len(pessoas) #encontra o próximo eliminado\n",
        "    pessoas.pop(i) #remove o eliminado\n",
        "    return flavious(pessoas, i+1, k) #segue apartir do próximo"
      ],
      "metadata": {
        "id": "Mgovxc7L43qt"
      },
      "execution_count": null,
      "outputs": []
    },
    {
      "cell_type": "code",
      "source": [
        "NC = int(input())\n",
        "for i in range(1, NC + 1):\n",
        "    n, k = [int(x) for x in input().strip().split(' ')]\n",
        "    pessoas = list(range(n))\n",
        "\n",
        "    sobrevivente = flavious(pessoas, 0, k)\n",
        "    sobrevivente[0] = sobrevivente[0] + 1\n",
        "    print(f\"Case {i}: {sobrevivente[0]}\")"
      ],
      "metadata": {
        "colab": {
          "base_uri": "https://localhost:8080/",
          "height": 252
        },
        "id": "n1efzyvB5ru9",
        "outputId": "544f727f-81a7-48e6-ef32-0d9a3cf06143"
      },
      "execution_count": null,
      "outputs": [
        {
          "name": "stdout",
          "output_type": "stream",
          "text": [
            "1 1\n"
          ]
        },
        {
          "output_type": "error",
          "ename": "ValueError",
          "evalue": "ignored",
          "traceback": [
            "\u001b[0;31m---------------------------------------------------------------------------\u001b[0m",
            "\u001b[0;31mValueError\u001b[0m                                Traceback (most recent call last)",
            "\u001b[0;32m<ipython-input-64-0fa2817b466f>\u001b[0m in \u001b[0;36m<cell line: 1>\u001b[0;34m()\u001b[0m\n\u001b[0;32m----> 1\u001b[0;31m \u001b[0mNC\u001b[0m \u001b[0;34m=\u001b[0m \u001b[0mint\u001b[0m\u001b[0;34m(\u001b[0m\u001b[0minput\u001b[0m\u001b[0;34m(\u001b[0m\u001b[0;34m)\u001b[0m\u001b[0;34m)\u001b[0m\u001b[0;34m\u001b[0m\u001b[0;34m\u001b[0m\u001b[0m\n\u001b[0m\u001b[1;32m      2\u001b[0m \u001b[0;32mfor\u001b[0m \u001b[0mi\u001b[0m \u001b[0;32min\u001b[0m \u001b[0mrange\u001b[0m\u001b[0;34m(\u001b[0m\u001b[0;36m1\u001b[0m\u001b[0;34m,\u001b[0m \u001b[0mNC\u001b[0m \u001b[0;34m+\u001b[0m \u001b[0;36m1\u001b[0m\u001b[0;34m)\u001b[0m\u001b[0;34m:\u001b[0m\u001b[0;34m\u001b[0m\u001b[0;34m\u001b[0m\u001b[0m\n\u001b[1;32m      3\u001b[0m     \u001b[0mn\u001b[0m\u001b[0;34m,\u001b[0m \u001b[0mk\u001b[0m \u001b[0;34m=\u001b[0m \u001b[0;34m[\u001b[0m\u001b[0mint\u001b[0m\u001b[0;34m(\u001b[0m\u001b[0mx\u001b[0m\u001b[0;34m)\u001b[0m \u001b[0;32mfor\u001b[0m \u001b[0mx\u001b[0m \u001b[0;32min\u001b[0m \u001b[0minput\u001b[0m\u001b[0;34m(\u001b[0m\u001b[0;34m)\u001b[0m\u001b[0;34m.\u001b[0m\u001b[0mstrip\u001b[0m\u001b[0;34m(\u001b[0m\u001b[0;34m)\u001b[0m\u001b[0;34m.\u001b[0m\u001b[0msplit\u001b[0m\u001b[0;34m(\u001b[0m\u001b[0;34m' '\u001b[0m\u001b[0;34m)\u001b[0m\u001b[0;34m]\u001b[0m\u001b[0;34m\u001b[0m\u001b[0;34m\u001b[0m\u001b[0m\n\u001b[1;32m      4\u001b[0m     \u001b[0mpessoas\u001b[0m \u001b[0;34m=\u001b[0m \u001b[0mlist\u001b[0m\u001b[0;34m(\u001b[0m\u001b[0mrange\u001b[0m\u001b[0;34m(\u001b[0m\u001b[0mn\u001b[0m\u001b[0;34m)\u001b[0m\u001b[0;34m)\u001b[0m\u001b[0;34m\u001b[0m\u001b[0;34m\u001b[0m\u001b[0m\n\u001b[1;32m      5\u001b[0m \u001b[0;34m\u001b[0m\u001b[0m\n",
            "\u001b[0;31mValueError\u001b[0m: invalid literal for int() with base 10: '1 1'"
          ]
        }
      ]
    },
    {
      "cell_type": "code",
      "source": [
        "def flavious(pessoas, n , k):\n",
        "    if len(pessoas) == 1:\n",
        "      return pessoas\n",
        "    else:\n",
        "      n = (n+k-1)%len(pessoas)\n",
        "      pessoas.pop(n)\n",
        "      return flavious(pessoas, n+1, k)\n",
        "\n",
        "n_elementos = [10, 50, 100, 150, 200, 250, 300, 350, 400, 450, 500, 550, 600, 650, 700, 750, 800, 850, 900, 950]\n",
        "tempo_media = [0]*len(n_elementos)\n",
        "tempo = [0]*3\n",
        "for i in range(0, len(n_elementos)):\n",
        "    j = 0\n",
        "    while j < 3:\n",
        "      n = n_elementos[i]\n",
        "      pessoas = list(range(n))\n",
        "      k = 5\n",
        "      tempo_inicial = time.perf_counter()\n",
        "      sobrevivente = flavious(pessoas, n, k)\n",
        "      tempo_final = time.perf_counter()\n",
        "      tempo[j] = tempo_final - tempo_inicial\n",
        "      j = j+1\n",
        "    tempo_media[i] = (tempo[0]+tempo[1]+tempo[2])/3\n",
        "\n",
        "plt.plot(n_elementos, tempo_media)\n",
        "plt.xlabel(\"Número de pessoas\")\n",
        "plt.ylabel(\"Tempo de execução\")\n",
        "plt.title(\"Flavious Josephus Recursivo\")\n",
        "plt.show()"
      ],
      "metadata": {
        "id": "YhVCWSkxT9Hc"
      },
      "execution_count": null,
      "outputs": []
    },
    {
      "cell_type": "markdown",
      "source": [
        "Lista 2 Procedimento Teste"
      ],
      "metadata": {
        "id": "gFK5jqzuN7_T"
      }
    },
    {
      "cell_type": "code",
      "source": [
        "def Teste(A, n, i):\n",
        "  r = 2*i+1\n",
        "  l = 2*i\n",
        "  maior = i\n",
        "  if l<=n and A[l]>A[maior]:\n",
        "    maior = l\n",
        "  if r<=n and A[r]>A[maior]:\n",
        "    maior = r\n",
        "  if maior != i:\n",
        "    temp = A[i]\n",
        "    A[i] = A[maior]\n",
        "    A[maior] = temp\n",
        "    return Teste(A, n, maior)\n",
        "\n",
        "A = [10, 20, 50, 10, 5, 100]\n",
        "n = len(A)\n",
        "teste = Teste(A, n, 1)\n",
        "print(teste)"
      ],
      "metadata": {
        "id": "Nx3UXtXFN_HB"
      },
      "execution_count": null,
      "outputs": []
    },
    {
      "cell_type": "markdown",
      "source": [
        "Grafos"
      ],
      "metadata": {
        "id": "5AKQGeCFs_mD"
      }
    },
    {
      "cell_type": "code",
      "source": [
        "import networkx as nx\n",
        "\n",
        "exe1 = nx.Graph()\n",
        "\n",
        "exe1.add_node(\"Jorge\")\n",
        "exe1.add_node(\"Alan\")\n",
        "exe1.add_node(\"Hans\")\n",
        "exe1.add_node(\"Carla\")\n",
        "exe1.add_node(\"Maria\")\n",
        "exe1.add_node(\"Ingles\")\n",
        "exe1.add_node(\"Frances\")\n",
        "exe1.add_node(\"Alemao\")\n",
        "exe1.add_node(\"Portugues\")\n",
        "\n",
        "exe1.add_edge(\"Jorge\", \"Ingles\")\n",
        "exe1.add_edge(\"Jorge\", \"Frances\")\n",
        "exe1.add_edge(\"Jorge\", \"Alemao\")\n",
        "exe1.add_edge(\"Jorge\", \"Portugues\")\n",
        "\n",
        "exe1.add_edge(\"Alan\", \"Ingles\")\n",
        "exe1.add_edge(\"Alan\", \"Alemao\")\n",
        "\n",
        "exe1.add_edge(\"Hans\", \"Frances\")\n",
        "exe1.add_edge(\"Hans\", \"Alemao\")\n",
        "\n",
        "exe1.add_edge(\"Carla\", \"Ingles\")\n",
        "exe1.add_edge(\"Carla\", \"Portugues\")\n",
        "\n",
        "exe1.add_edge(\"Maria\", \"Portugues\")\n",
        "\n",
        "nx.draw(exe1, with_labels=True)"
      ],
      "metadata": {
        "id": "tGEOIRC3tB05"
      },
      "execution_count": null,
      "outputs": []
    },
    {
      "cell_type": "markdown",
      "source": [
        "Trabalho Grafos Questão 1 (parte 1: Dijkstra)"
      ],
      "metadata": {
        "id": "ylx-TwdIIm-F"
      }
    },
    {
      "cell_type": "code",
      "source": [
        "import networkx as nx #biblioteca para trabalhar com grafos\n",
        "\n",
        "exe1 = nx.DiGraph() #criando o digrafo\n",
        "pos=dict() #dicionario para desenhar o grafo nas posições desejadas\n",
        "\n",
        "#adicionando arestas\n",
        "exe1.add_edge(\"a1\", 1, weight=1)\n",
        "exe1.add_edge(\"a1\", 2, weight=3)\n",
        "exe1.add_edge(\"a2\", 1, weight=2)\n",
        "exe1.add_edge(\"a2\", 2, weight=3)\n",
        "exe1.add_edge(\"a3\", 2, weight=1)\n",
        "exe1.add_edge(\"a3\", \"b3\", weight=4)\n",
        "exe1.add_edge(1, 2, weight=1)\n",
        "exe1.add_edge(1, \"b1\", weight=2)\n",
        "exe1.add_edge(1, \"b2\", weight=4)\n",
        "exe1.add_edge(2, \"b1\", weight=3)\n",
        "exe1.add_edge(2, \"b2\", weight=5)\n",
        "exe1.add_edge(2, \"b3\", weight=2)\n",
        "\n",
        "pos[\"a1\"] = [1, 5]\n",
        "pos[\"a2\"] = [1, 3]\n",
        "pos[\"a3\"] = [1, 1]\n",
        "pos[1] = [3, 4]\n",
        "pos[2] = [3, 2.5]\n",
        "pos[\"b1\"] = [5, 5]\n",
        "pos[\"b2\"] = [5, 3]\n",
        "pos[\"b3\"] = [5, 1]\n",
        "\n",
        "#desenhando grafo\n",
        "nx.draw(exe1, with_labels=True, pos=pos)\n",
        "edge_labels = nx.get_edge_attributes(exe1, \"weight\")\n",
        "nx.draw_networkx_edge_labels(exe1, pos, edge_labels)\n",
        "\n",
        "#calculando distancia de menor custo com dijkstra e somando pesos\n",
        "da1b1 = nx.dijkstra_path(exe1, \"a1\", \"b1\")\n",
        "pa1b1 = nx.path_weight(exe1, da1b1, \"weight\")\n",
        "\n",
        "da2b1 = nx.dijkstra_path(exe1, \"a2\", \"b1\")\n",
        "pa2b1 = nx.path_weight(exe1, da2b1, \"weight\")\n",
        "\n",
        "da3b1 = nx.dijkstra_path(exe1, \"a3\", \"b1\")\n",
        "pa3b1 = nx.path_weight(exe1, da3b1, \"weight\")\n",
        "\n",
        "da1b2 = nx.dijkstra_path(exe1, \"a1\", \"b2\")\n",
        "pa1b2 = nx.path_weight(exe1, da1b2, \"weight\")\n",
        "\n",
        "da2b2 = nx.dijkstra_path(exe1, \"a2\", \"b2\")\n",
        "pa2b2 = nx.path_weight(exe1, da2b2, \"weight\")\n",
        "\n",
        "da3b2 = nx.dijkstra_path(exe1, \"a3\", \"b2\")\n",
        "pa3b2 = nx.path_weight(exe1, da3b2, \"weight\")\n",
        "\n",
        "da1b3 = nx.dijkstra_path(exe1, \"a1\", \"b3\")\n",
        "pa1b3 = nx.path_weight(exe1, da1b3, \"weight\")\n",
        "\n",
        "da2b3 = nx.dijkstra_path(exe1, \"a2\", \"b3\")\n",
        "pa2b3 = nx.path_weight(exe1, da2b3, \"weight\")\n",
        "\n",
        "da3b3 = nx.dijkstra_path(exe1, \"a3\", \"b3\")\n",
        "pa3b3 = nx.path_weight(exe1, da3b3, \"weight\")\n",
        "\n",
        "#imprimindo resultados\n",
        "print(\"Caminho mais curto de a1 a b1:\",da1b1, \"| Custo:\", pa1b1)\n",
        "print(\"Caminho mais curto de a2 a b1:\",da2b1, \"| Custo:\", pa2b1)\n",
        "print(\"Caminho mais curto de a3 a b1:\",da3b1, \"| Custo:\", pa3b1)\n",
        "print('\\n')\n",
        "print(\"Caminho mais curto de a1 a b2:\",da1b2, \"| Custo:\", pa1b2)\n",
        "print(\"Caminho mais curto de a2 a b2:\",da2b2, \"| Custo:\", pa2b2)\n",
        "print(\"Caminho mais curto de a3 a b2:\",da3b2, \"| Custo:\", pa3b2)\n",
        "print('\\n')\n",
        "print(\"Caminho mais curto de a1 a b3:\",da1b3, \"| Custo:\", pa1b3)\n",
        "print(\"Caminho mais curto de a2 a b3:\",da2b3, \"| Custo:\", pa2b3)\n",
        "print(\"Caminho mais curto de a3 a b3:\",da3b3, \"| Custo:\", pa3b3)"
      ],
      "metadata": {
        "id": "NCaXnwkFIsvl"
      },
      "execution_count": null,
      "outputs": []
    },
    {
      "cell_type": "markdown",
      "source": [
        "Trabaho Grafos Questão 1 (parte 2: Alocação Linear)"
      ],
      "metadata": {
        "id": "pbIzMv98I1nn"
      }
    },
    {
      "cell_type": "code",
      "source": [
        "import networkx as nx\n",
        "\n",
        "exe1_2 = nx.DiGraph() #novo digrafo para segunda parte da questão\n",
        "pos = dict() #novo dicionario para desenho\n",
        "\n",
        "#criando novo digrafo para alocação linear\n",
        "exe1_2.add_edge(\"s\", \"a1_1\", weight = 0, capacity = 1)\n",
        "exe1_2.add_edge(\"s\", \"a1_2\", weight = 0, capacity = 1)\n",
        "exe1_2.add_edge(\"s\", \"a2_1\", weight = 0, capacity = 1)\n",
        "exe1_2.add_edge(\"s\", \"a2_2\", weight = 0, capacity = 1)\n",
        "exe1_2.add_edge(\"s\", \"a3\", weight = 0, capacity = 1)\n",
        "\n",
        "exe1_2.add_edge(\"a1_1\", \"b1_1\", weight = pa1b1, capacity = 1)\n",
        "exe1_2.add_edge(\"a1_1\", \"b1_2\", weight = pa1b1, capacity = 1)\n",
        "exe1_2.add_edge(\"a1_1\", \"b2\", weight = pa1b2, capacity = 1)\n",
        "exe1_2.add_edge(\"a1_1\", \"b3\", weight = pa1b3, capacity = 1)\n",
        "exe1_2.add_edge(\"a1_1\", \"Standby\", weight = 99, capacity = 1)\n",
        "\n",
        "exe1_2.add_edge(\"a1_2\", \"b1_1\", weight = pa1b1, capacity = 1)\n",
        "exe1_2.add_edge(\"a1_2\", \"b1_2\", weight = pa1b1, capacity = 1)\n",
        "exe1_2.add_edge(\"a1_2\", \"b2\", weight = pa1b2, capacity = 1)\n",
        "exe1_2.add_edge(\"a1_2\", \"b3\", weight = pa1b2, capacity = 1)\n",
        "exe1_2.add_edge(\"a1_2\", \"Standby\", weight = 99, capacity = 1)\n",
        "\n",
        "exe1_2.add_edge(\"a2_1\", \"b1_1\", weight = pa2b1, capacity = 1)\n",
        "exe1_2.add_edge(\"a2_1\", \"b1_2\", weight = pa2b1, capacity = 1)\n",
        "exe1_2.add_edge(\"a2_1\", \"b2\", weight = pa2b2, capacity = 1)\n",
        "exe1_2.add_edge(\"a2_1\", \"b3\", weight = pa2b3, capacity = 1)\n",
        "exe1_2.add_edge(\"a2_1\", \"Standby\", weight = 99, capacity = 1)\n",
        "\n",
        "exe1_2.add_edge(\"a2_2\", \"b1_1\", weight = pa2b1, capacity = 1)\n",
        "exe1_2.add_edge(\"a2_2\", \"b1_2\", weight = pa2b1, capacity = 1)\n",
        "exe1_2.add_edge(\"a2_2\", \"b2\", weight = pa2b2, capacity = 1)\n",
        "exe1_2.add_edge(\"a2_2\", \"b3\", weight = pa2b3, capacity = 1)\n",
        "exe1_2.add_edge(\"a2_2\", \"Standby\", weight = 99, capacity = 1)\n",
        "\n",
        "exe1_2.add_edge(\"a3\", \"b1_1\", weight = pa3b1, capacity = 1)\n",
        "exe1_2.add_edge(\"a3\", \"b1_2\", weight = pa3b1, capacity = 1)\n",
        "exe1_2.add_edge(\"a3\", \"b2\", weight = pa3b2, capacity = 1)\n",
        "exe1_2.add_edge(\"a3\", \"b3\", weight = pa3b3, capacity = 1)\n",
        "exe1_2.add_edge(\"a3\", \"Standby\", weight = 99, capacity = 1)\n",
        "\n",
        "exe1_2.add_edge(\"b1_1\", \"t\", weight = 0, capacity = 1)\n",
        "exe1_2.add_edge(\"b1_2\", \"t\", weight = 0, capacity = 1)\n",
        "exe1_2.add_edge(\"b2\", \"t\", weight = 0, capacity = 1)\n",
        "exe1_2.add_edge(\"b3\", \"t\", weight = 0, capacity = 1)\n",
        "exe1_2.add_edge(\"Standby\", \"t\", weight = 0, capacity = 1)\n",
        "\n",
        "pos[\"s\"] = [1, 3]\n",
        "pos[\"a1_1\"] = [2, 5]\n",
        "pos[\"a1_2\"] = [2, 4]\n",
        "pos[\"a2_1\"] = [2, 3]\n",
        "pos[\"a2_2\"] = [2, 2]\n",
        "pos[\"a3\"] = [2, 1]\n",
        "pos[\"b1_1\"] = [3, 5]\n",
        "pos[\"b1_2\"] = [3, 4]\n",
        "pos[\"b2\"] = [3, 3]\n",
        "pos[\"b3\"] = [3, 2]\n",
        "pos[\"Standby\"] = [3, 1]\n",
        "pos[\"t\"] = [4, 3]\n",
        "\n",
        "#desenhando novo grafo\n",
        "nx.draw(exe1_2, with_labels=True, pos=pos)\n",
        "edge_labels = nx.get_edge_attributes(exe1_2, \"weight\")\n",
        "nx.draw_networkx_edge_labels(exe1_2, pos, edge_labels)\n",
        "\n",
        "alocacao = nx.max_flow_min_cost(exe1_2, \"s\", \"t\") #faz alocação linear\n",
        "custo = nx.cost_of_flow(exe1_2, alocacao) - 99 #recebe custo da alocação\n",
        "for key, tuplevalues in alocacao.items():\n",
        "  for value in tuplevalues:\n",
        "    if ((key == \"a1_1\" or key == \"a1_2\" or key == \"a2_1\" or key == \"a2_2\" or key == \"a3\") and (alocacao[key][value] == 1)):\n",
        "      print(\"O batalhão\", key, \"vai para\", value)\n",
        "print(\"O custo dessa alocação é:\", custo)"
      ],
      "metadata": {
        "id": "BBuMA-V7I33g"
      },
      "execution_count": null,
      "outputs": []
    },
    {
      "cell_type": "markdown",
      "source": [
        "Trabaho Grafos Questão 2"
      ],
      "metadata": {
        "id": "AuOqk2cRI77P"
      }
    },
    {
      "cell_type": "code",
      "source": [
        "import networkx as nx #biblioteca para trabalhar com grafos\n",
        "from itertools import combinations #para trabalhar com combinações\n",
        "\n",
        "exe2 = nx.Graph() #criando grafo\n",
        "pos=dict() #dicionario para desenhar o grafo nas posições desejadas\n",
        "arestas_visitadas = list() #lista de arestas visitadas\n",
        "\n",
        "#adicionando arestas\n",
        "exe2.add_edge(\"A\", \"B\", weight = 1)\n",
        "exe2.add_edge(\"A\", \"C\", weight = 1)\n",
        "exe2.add_edge(\"A\", \"D\", weight = 1)\n",
        "exe2.add_edge(\"A\", \"E\", weight = 1)\n",
        "exe2.add_edge(\"B\", \"C\", weight = 8)\n",
        "exe2.add_edge(\"B\", \"D\", weight = 7)\n",
        "exe2.add_edge(\"C\", \"E\", weight = 7)\n",
        "exe2.add_edge(\"D\", \"E\", weight = 8)\n",
        "\n",
        "#colocando na posição desejada no desenho\n",
        "pos[\"A\"] = [3, 5]\n",
        "pos[\"B\"] = [1, 3]\n",
        "pos[\"C\"] = [5, 3]\n",
        "pos[\"D\"] = [1, 1]\n",
        "pos[\"E\"] = [5, 1]\n",
        "\n",
        "#desenhando grafo\n",
        "nx.draw(exe2, with_labels=True, pos=pos)\n",
        "edge_labels = nx.get_edge_attributes(exe2, \"weight\")\n",
        "nx.draw_networkx_edge_labels(exe2, pos, edge_labels)\n",
        "\n",
        "fonte = \"A\" #definindo inicio do circuito"
      ],
      "metadata": {
        "id": "6ux2ONVrI9N_"
      },
      "execution_count": null,
      "outputs": []
    },
    {
      "cell_type": "code",
      "source": [
        "def eulerize_alter(G): #função para tornar um grafo euleriano, considerando caminho de menor custo\n",
        "    odd_degree_nodes = [n for n, d in G.degree() if d % 2 == 1] #descobre todos vertices de grau impar\n",
        "    G = nx.MultiGraph(G) #multigrafo que começa como uma cópia do grafo original (para receber arestas paralelas)\n",
        "    if len(odd_degree_nodes) == 0: #caso não haja vertices de grau impar\n",
        "        return G\n",
        "\n",
        "    #calcula o caminho de menor custo entre cada par de vertice de grau impar\n",
        "    odd_deg_pairs_paths = [\n",
        "        (m, {n: nx.dijkstra_path(G, source=m, target=n)})\n",
        "        for m, n in combinations(odd_degree_nodes, 2)\n",
        "    ]\n",
        "\n",
        "    upper_bound_on_max_path_length = len(G) + 1 #tamanho limite de um caminho\n",
        "\n",
        "    Gp = nx.Graph() #cria um novo grafo abrangante de G com os caminhos de menor custo calculados anteriormente (para alocação linear)\n",
        "    for n, Ps in odd_deg_pairs_paths:\n",
        "        for m, P in Ps.items():\n",
        "            if n != m:\n",
        "                Gp.add_edge(\n",
        "                    m, n, weight=upper_bound_on_max_path_length - len(P), path=P\n",
        "                )\n",
        "\n",
        "    #encontra os melhores pares de vertices de grau impar\n",
        "    best_matching = nx.Graph(list(nx.max_weight_matching(Gp)))\n",
        "\n",
        "    #adiciona novas arestas para tornar o grafo euleriano\n",
        "    for m, n in best_matching.edges():\n",
        "        path = Gp[m][n][\"path\"]\n",
        "        G.add_edges_from(nx.utils.pairwise(path))\n",
        "    return G\n",
        "\n",
        "if(nx.is_eulerian(exe2)): #verifica se o grafo é euleriano (solução otima)\n",
        "  for u, v in nx.eulerian_circuit(exe2, source=fonte): #faz o percurso e guarda na variavel arestas_visitadas\n",
        "    arestas_visitadas.append(u)\n",
        "  arestas_visitadas.append(fonte)\n",
        "  peso = nx.path_weight(exe2, arestas_visitadas, \"weight\") #recupera o peso do caminho percorrido\n",
        "else: #caso não seja euleriano\n",
        "  temp = eulerize_alter(exe2) #função para tornar o grafo euleriano\n",
        "  for u, v in nx.eulerian_circuit(temp, source=fonte): #faz o percurso e guarda na variavel arestas_visitadas\n",
        "    arestas_visitadas.append(u)\n",
        "  arestas_visitadas.append(fonte)\n",
        "  peso = nx.path_weight(exe2, arestas_visitadas, \"weight\") #recupera o peso do caminho percorrido\n",
        "\n",
        "print(\"O caminho percorrido foi:\", arestas_visitadas, \"| Seu custo foi:\", peso)"
      ],
      "metadata": {
        "id": "gll9CUaKJBTJ"
      },
      "execution_count": null,
      "outputs": []
    },
    {
      "cell_type": "markdown",
      "source": [
        "Trabalho Grafos Questão 3"
      ],
      "metadata": {
        "id": "UAf_Lo9aJB-Z"
      }
    },
    {
      "cell_type": "code",
      "source": [
        "import networkx as nx #biblioteca para trabalhar com grafos\n",
        "\n",
        "exe3 = nx.DiGraph() #criando digrafo\n",
        "pos=dict() #dicionario para desenhar o grafo nas posições desejadas\n",
        "arestas_visitadas = list() #lista de arestas visitadas\n",
        "\n",
        "#adicionando arestas\n",
        "exe3.add_edge(\"A\", \"B\", weight = 1)\n",
        "exe3.add_edge(\"A\", \"C\", weight = 1)\n",
        "exe3.add_edge(\"A\", \"D\", weight = 1)\n",
        "exe3.add_edge(\"A\", \"E\", weight = 1)\n",
        "exe3.add_edge(\"B\", \"A\", weight = 2)\n",
        "exe3.add_edge(\"B\", \"C\", weight = 8)\n",
        "exe3.add_edge(\"B\", \"D\", weight = 7)\n",
        "exe3.add_edge(\"C\", \"A\", weight = 1)\n",
        "exe3.add_edge(\"C\", \"B\", weight = 1)\n",
        "exe3.add_edge(\"C\", \"E\", weight = 7)\n",
        "exe3.add_edge(\"D\", \"E\", weight = 8)\n",
        "exe3.add_edge(\"E\", \"A\", weight = 0.5)\n",
        "\n",
        "#colocando na posição desejada no desenho\n",
        "pos[\"A\"] = [3, 5]\n",
        "pos[\"B\"] = [1, 3]\n",
        "pos[\"C\"] = [5, 3]\n",
        "pos[\"D\"] = [1, 1]\n",
        "pos[\"E\"] = [5, 1]\n",
        "\n",
        "#desenhando grafo\n",
        "nx.draw(exe3, with_labels=True, pos=pos)\n",
        "edge_labels = nx.get_edge_attributes(exe3, \"weight\")\n",
        "nx.draw_networkx_edge_labels(exe3, pos, edge_labels)\n",
        "\n",
        "fonte = \"A\" #definindo inicio do circuito"
      ],
      "metadata": {
        "id": "3yROLAmWJEuB"
      },
      "execution_count": null,
      "outputs": []
    },
    {
      "cell_type": "code",
      "source": [
        "from networkx.generators.stochastic import MultiDiGraph\n",
        "from networkx.generators.triads import DiGraph\n",
        "\n",
        "def concerta_digrafo(G):\n",
        "  aux = dict(G.nodes) #recebe vertices de G\n",
        "  botar = [] #variavel pra receber vertices com grau de saida maior que de entrada\n",
        "  tirar = [] #variavel pra receber vertices com grau de entrada maior que de saida\n",
        "  for i in aux.copy(): #percorre todos os vertices de G\n",
        "    if G.in_degree(i) != G.out_degree(i): #caso grau de entrada e saida sejam diferentes\n",
        "      if G.in_degree(i) < G.out_degree(i): #caso grau de saida seja maior\n",
        "        botar.append(i)\n",
        "      else: #caso grau de entrada seja maior\n",
        "        tirar.append(i)\n",
        "\n",
        "  aux2 = DiGraph(G) #digrafo auxiliar que começa como copía de G\n",
        "  for i in aux.copy(): #percorre todos os vertices\n",
        "    if i in tirar: #se o vertice estiver em tirar\n",
        "      aux2.add_edge(\"s\", i, weight = 0, capacity = (G.in_degree(i)-G.out_degree(i))) #conecta com a fonte. Capacidade é a diferença entre grau de entrada e saída\n",
        "    elif i in botar:\n",
        "      aux2.add_edge(i, \"t\", weight = 0, capacity = (G.out_degree(i)-G.in_degree(i))) #conecta com o sumidouro. Capacidade é a diferença entre grau de saída e entrada\n",
        "\n",
        "  ligacoes = nx.max_flow_min_cost(aux2, \"s\", \"t\") #faz alocação linear\n",
        "\n",
        "  Gnovo = MultiDiGraph(G) #novo digrafo que vai ser a versão euleriana de G\n",
        "  for key, tuplevalues in ligacoes.items(): #percorre o dicionario da alocação linear\n",
        "    for value in tuplevalues:\n",
        "      if (key != \"s\" and value != \"t\") and ligacoes[key][value] != 0:\n",
        "        for a in range(0, ligacoes[key][value]):\n",
        "          Gnovo.add_edge(key, value, weight = G.get_edge_data(key, value)) #adiciona as novas arestas necessárias\n",
        "\n",
        "  return Gnovo\n",
        "\n",
        "if(nx.is_eulerian(exe3)): #verifica se o grafo é euleriano (solução otima)\n",
        "  for u, v in nx.eulerian_circuit(exe3, source=fonte): #faz o percurso e guarda na variavel arestas_visitadas\n",
        "    arestas_visitadas.append(u)\n",
        "  arestas_visitadas.append(fonte)\n",
        "  peso = nx.path_weight(exe3, arestas_visitadas, \"weight\") #recupera o peso do caminho percorrido\n",
        "else: #caso não seja euleriano\n",
        "  temp = concerta_digrafo(exe3)\n",
        "  for u, v in nx.eulerian_circuit(temp, source=fonte): #faz o percurso e guarda na variavel arestas_visitadas\n",
        "    arestas_visitadas.append(u)\n",
        "  arestas_visitadas.append(fonte)\n",
        "  peso = nx.path_weight(exe3, arestas_visitadas, \"weight\") #recupera o peso do caminho percorrido\n",
        "\n",
        "print(\"O caminho percorrido foi:\", arestas_visitadas, \"| Seu custo foi:\", peso)"
      ],
      "metadata": {
        "id": "la9_-BeRJIVp"
      },
      "execution_count": null,
      "outputs": []
    }
  ]
}